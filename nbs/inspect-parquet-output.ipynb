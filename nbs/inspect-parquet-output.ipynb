{
 "cells": [
  {
   "cell_type": "markdown",
   "id": "3cba1945",
   "metadata": {},
   "source": [
    "#### Inspecting Parquet output"
   ]
  },
  {
   "cell_type": "code",
   "execution_count": 1,
   "id": "7779f15c",
   "metadata": {},
   "outputs": [],
   "source": [
    "import pandas as pd\n",
    "import pyarrow.parquet as pq"
   ]
  },
  {
   "cell_type": "code",
   "execution_count": 2,
   "id": "586eb957",
   "metadata": {},
   "outputs": [],
   "source": [
    "df = pd.read_parquet(\"../data/out/out.parquet\")"
   ]
  },
  {
   "cell_type": "code",
   "execution_count": 3,
   "id": "ac65dfb3",
   "metadata": {},
   "outputs": [
    {
     "name": "stdout",
     "output_type": "stream",
     "text": [
      "   Index                                        Name  \\\n",
      "0      1  Smart Fan Iron Cooker Go Wireless Portable   \n",
      "1      2                                         Fan   \n",
      "2      3   Smart Speakerphone Charger Eco Plus Clean   \n",
      "3      4              Premium Grill Trimmer Portable   \n",
      "4      5                            Keyboard Freezer   \n",
      "\n",
      "                           Description                    Brand  \\\n",
      "0            Catch enough role nearly.               Herman Ltd   \n",
      "1            All movement yeah tax me.  Braun, King and Rollins   \n",
      "2  Quickly inside pull line lay start.             Peck-Coleman   \n",
      "3                Lawyer one than fire.                Hines Ltd   \n",
      "4    Remain Congress blood plan voice.  Spence, Webster and Orr   \n",
      "\n",
      "              Category  Price Currency  Stock            EAN        Color  \\\n",
      "0       Kids' Clothing    585      USD    194  3968600833473     Cornsilk   \n",
      "1       Grooming Tools    992      USD    724   191126950284       Bisque   \n",
      "2    Fishing & Hunting    940      USD    769  7569143820621         Blue   \n",
      "3             Skincare    324      USD     93  2705140928037        Ivory   \n",
      "4  Laptops & Computers    908      USD    614  9830391008108  FloralWhite   \n",
      "\n",
      "          Size   Availability  Internal ID  \n",
      "0       5x7 in  limited_stock           54  \n",
      "1            S   discontinued           49  \n",
      "2  Extra Large      pre_order           42  \n",
      "3     50x70 cm   out_of_stock           93  \n",
      "4     10x10 cm   discontinued           91  \n"
     ]
    }
   ],
   "source": [
    "print(df.head())"
   ]
  },
  {
   "cell_type": "code",
   "execution_count": 4,
   "id": "559f0952",
   "metadata": {},
   "outputs": [
    {
     "name": "stdout",
     "output_type": "stream",
     "text": [
      "Index            int64\n",
      "Name            object\n",
      "Description     object\n",
      "Brand           object\n",
      "Category        object\n",
      "Price            int64\n",
      "Currency        object\n",
      "Stock            int64\n",
      "EAN              int64\n",
      "Color           object\n",
      "Size            object\n",
      "Availability    object\n",
      "Internal ID      int64\n",
      "dtype: object\n"
     ]
    }
   ],
   "source": [
    "print(df.dtypes)"
   ]
  },
  {
   "cell_type": "code",
   "execution_count": 5,
   "id": "3b196e4e",
   "metadata": {},
   "outputs": [
    {
     "name": "stdout",
     "output_type": "stream",
     "text": [
      "Index: int64\n",
      "Name: string\n",
      "Description: string\n",
      "Brand: string\n",
      "Category: string\n",
      "Price: int64\n",
      "Currency: string\n",
      "Stock: int64\n",
      "EAN: int64\n",
      "Color: string\n",
      "Size: string\n",
      "Availability: string\n",
      "Internal ID: int64\n",
      "   Index                                        Name  \\\n",
      "0      1  Smart Fan Iron Cooker Go Wireless Portable   \n",
      "1      2                                         Fan   \n",
      "2      3   Smart Speakerphone Charger Eco Plus Clean   \n",
      "3      4              Premium Grill Trimmer Portable   \n",
      "4      5                            Keyboard Freezer   \n",
      "\n",
      "                           Description                    Brand  \\\n",
      "0            Catch enough role nearly.               Herman Ltd   \n",
      "1            All movement yeah tax me.  Braun, King and Rollins   \n",
      "2  Quickly inside pull line lay start.             Peck-Coleman   \n",
      "3                Lawyer one than fire.                Hines Ltd   \n",
      "4    Remain Congress blood plan voice.  Spence, Webster and Orr   \n",
      "\n",
      "              Category  Price Currency  Stock            EAN        Color  \\\n",
      "0       Kids' Clothing    585      USD    194  3968600833473     Cornsilk   \n",
      "1       Grooming Tools    992      USD    724   191126950284       Bisque   \n",
      "2    Fishing & Hunting    940      USD    769  7569143820621         Blue   \n",
      "3             Skincare    324      USD     93  2705140928037        Ivory   \n",
      "4  Laptops & Computers    908      USD    614  9830391008108  FloralWhite   \n",
      "\n",
      "          Size   Availability  Internal ID  \n",
      "0       5x7 in  limited_stock           54  \n",
      "1            S   discontinued           49  \n",
      "2  Extra Large      pre_order           42  \n",
      "3     50x70 cm   out_of_stock           93  \n",
      "4     10x10 cm   discontinued           91  \n"
     ]
    }
   ],
   "source": [
    "table = pq.read_table(\"../data/out/out.parquet\")\n",
    "print(table.schema)\n",
    "print(table.to_pandas().head())"
   ]
  },
  {
   "cell_type": "code",
   "execution_count": null,
   "id": "192a55d7",
   "metadata": {},
   "outputs": [],
   "source": []
  }
 ],
 "metadata": {
  "kernelspec": {
   "display_name": "base",
   "language": "python",
   "name": "python3"
  },
  "language_info": {
   "codemirror_mode": {
    "name": "ipython",
    "version": 3
   },
   "file_extension": ".py",
   "mimetype": "text/x-python",
   "name": "python",
   "nbconvert_exporter": "python",
   "pygments_lexer": "ipython3",
   "version": "3.12.7"
  }
 },
 "nbformat": 4,
 "nbformat_minor": 5
}
